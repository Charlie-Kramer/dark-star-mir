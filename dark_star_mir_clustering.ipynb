{
 "cells": [
  {
   "cell_type": "code",
   "execution_count": null,
   "id": "3e4b0f15",
   "metadata": {},
   "outputs": [],
   "source": [
    "import numpy as np\n",
    "import librosa\n",
    "import librosa.display\n",
    "import IPython.display as ipd\n",
    "import random\n",
    "import matplotlib.pyplot as plt\n",
    "from matplotlib.dates import DateFormatter\n",
    "import sklearn\n",
    "from sklearn.preprocessing import StandardScaler\n",
    "\n",
    "import datetime"
   ]
  },
  {
   "cell_type": "code",
   "execution_count": null,
   "id": "3820d961",
   "metadata": {},
   "outputs": [],
   "source": [
    "dark_star_input_file = \"wav/DarkStarSingleVersion.wav\"\n",
    "#\"wav/dark_star.wav\"\n",
    "y, sr = librosa.load(dark_star_input_file)"
   ]
  },
  {
   "cell_type": "code",
   "execution_count": null,
   "id": "55391483",
   "metadata": {},
   "outputs": [],
   "source": [
    "mfccs_T = librosa.feature.mfcc(y=y,sr=sr)"
   ]
  },
  {
   "cell_type": "code",
   "execution_count": null,
   "id": "5754f90d",
   "metadata": {},
   "outputs": [],
   "source": [
    "mfccs_unscaled = mfccs_T.transpose()\n",
    "scaler = StandardScaler()\n",
    "mfccs = scaler.fit_transform(mfccs_unscaled)\n",
    "mfccs.shape"
   ]
  },
  {
   "cell_type": "code",
   "execution_count": null,
   "id": "036f454d",
   "metadata": {},
   "outputs": [],
   "source": [
    "\n",
    "S = librosa.feature.melspectrogram(y=y, sr=sr, n_mels=128,\n",
    "                                   fmax=8000)\n",
    "fig, ax = plt.subplots(nrows=2, sharex=True)\n",
    "img = librosa.display.specshow(librosa.power_to_db(S, ref=np.max),\n",
    "                               x_axis='time', y_axis='mel', fmax=8000,\n",
    "                               ax=ax[0])\n",
    "fig.colorbar(img, ax=[ax[0]])\n",
    "ax[0].set(title='Mel spectrogram')\n",
    "ax[0].label_outer()\n",
    "img = librosa.display.specshow(mfccs_T, x_axis='time', ax=ax[1])\n",
    "fig.colorbar(img, ax=[ax[1]])\n",
    "ax[1].set(title='MFCC')"
   ]
  },
  {
   "cell_type": "code",
   "execution_count": null,
   "id": "549547b5",
   "metadata": {},
   "outputs": [],
   "source": [
    "\n",
    "ipd.Audio(dark_star_input_file)"
   ]
  },
  {
   "cell_type": "code",
   "execution_count": null,
   "id": "0deeb298",
   "metadata": {},
   "outputs": [],
   "source": [
    "kmeans = sklearn.cluster.KMeans(n_clusters=5,max_iter=500)\n",
    "kmeans.fit(mfccs)\n",
    "clusters=kmeans.predict(mfccs)"
   ]
  },
  {
   "cell_type": "code",
   "execution_count": null,
   "id": "77008f60",
   "metadata": {},
   "outputs": [],
   "source": [
    "xdata_seconds = librosa.times_like(mfccs_T)\n",
    "x = [datetime.timedelta(seconds=xi) for xi in xdata_seconds]\n",
    "x_time = [str(xi) for xi in x]\n",
    "# fig1, ax1 = plt.subplots()\n",
    "# ax1.plot(x_time,clusters)\n",
    "#doesnt work with scatterplot?\n",
    "\n",
    "x_time = [datetime.datetime(year=9999,month=1,day=1,hour=0)+ datetime.timedelta(seconds=i) for i in xdata_seconds]\n",
    "\n",
    "y = clusters\n",
    "fig2, ax2 = plt.subplots()\n",
    "date_form = DateFormatter(\"%M:%S\")\n",
    "ax2.xaxis.set_major_formatter(date_form)\n",
    "ax2.scatter(x_time,y,c=y)"
   ]
  },
  {
   "cell_type": "code",
   "execution_count": null,
   "id": "8bc51918",
   "metadata": {},
   "outputs": [],
   "source": []
  },
  {
   "cell_type": "code",
   "execution_count": null,
   "id": "a437e15e",
   "metadata": {},
   "outputs": [],
   "source": []
  },
  {
   "cell_type": "code",
   "execution_count": null,
   "id": "f1a06a1d",
   "metadata": {},
   "outputs": [],
   "source": []
  },
  {
   "cell_type": "code",
   "execution_count": null,
   "id": "6afde75a",
   "metadata": {},
   "outputs": [],
   "source": []
  },
  {
   "cell_type": "code",
   "execution_count": null,
   "id": "d2d816b1",
   "metadata": {},
   "outputs": [],
   "source": []
  },
  {
   "cell_type": "code",
   "execution_count": null,
   "id": "1700c878",
   "metadata": {},
   "outputs": [],
   "source": []
  }
 ],
 "metadata": {
  "kernelspec": {
   "display_name": "Python 3 (ipykernel)",
   "language": "python",
   "name": "python3"
  },
  "language_info": {
   "codemirror_mode": {
    "name": "ipython",
    "version": 3
   },
   "file_extension": ".py",
   "mimetype": "text/x-python",
   "name": "python",
   "nbconvert_exporter": "python",
   "pygments_lexer": "ipython3",
   "version": "3.9.13"
  }
 },
 "nbformat": 4,
 "nbformat_minor": 5
}
