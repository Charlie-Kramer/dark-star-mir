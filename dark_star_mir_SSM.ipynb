{
 "cells": [
  {
   "cell_type": "code",
   "execution_count": null,
   "id": "3e4b0f15",
   "metadata": {},
   "outputs": [],
   "source": [
    "import numpy as np\n",
    "import librosa\n",
    "import librosa.display\n",
    "import IPython.display as ipd\n",
    "import random\n",
    "import matplotlib.pyplot as plt\n",
    "from matplotlib.dates import DateFormatter\n",
    "import sklearn\n",
    "from sklearn.preprocessing import StandardScaler, MinMaxScaler\n",
    "\n",
    "import datetime\n",
    "import seaborn as sns\n",
    "import pandas as pd"
   ]
  },
  {
   "cell_type": "code",
   "execution_count": null,
   "id": "3820d961",
   "metadata": {},
   "outputs": [],
   "source": [
    "#dark_star_input_file = \"wav/DarkStarSingleVersion.wav\"\n",
    "dark_star_input_file = \"wav/dark_star.wav\"\n",
    "y, sr = librosa.load(dark_star_input_file)\n",
    "\n",
    "ipd.Audio(dark_star_input_file)"
   ]
  },
  {
   "cell_type": "code",
   "execution_count": null,
   "id": "55391483",
   "metadata": {},
   "outputs": [],
   "source": [
    "n_fft = 512*100\n",
    "win_length = n_fft\n",
    "hop_length = n_fft\n",
    "mfccs_T = librosa.feature.mfcc(y=y,sr=sr,n_fft = n_fft, \n",
    "                win_length=win_length,hop_length=hop_length)"
   ]
  },
  {
   "cell_type": "code",
   "execution_count": null,
   "id": "5754f90d",
   "metadata": {},
   "outputs": [],
   "source": [
    "#scaler = StandardScaler()\n",
    "scaler = MinMaxScaler()\n",
    "mfccs = scaler.fit_transform(mfccs_T).transpose()\n",
    "mfccs.shape\n"
   ]
  },
  {
   "cell_type": "code",
   "execution_count": null,
   "id": "77008f60",
   "metadata": {},
   "outputs": [],
   "source": [
    "xdata_seconds = librosa.times_like(mfccs_T)\n",
    "x = [datetime.timedelta(seconds=xi) for xi in xdata_seconds]\n",
    "x_time = [datetime.datetime(year=9999,month=1,day=1,hour=0)+ datetime.timedelta(seconds=i) for i in xdata_seconds]\n",
    "index_min_sec = [d.strftime('%M:%S') for d in x_time]\n"
   ]
  },
  {
   "cell_type": "code",
   "execution_count": null,
   "id": "f1a06a1d",
   "metadata": {},
   "outputs": [],
   "source": [
    "S2 = np.dot(mfccs[:,4:14],mfccs[:,4:14].transpose())\n",
    "S3 = pd.DataFrame(S2,index=index_min_sec,columns=index_min_sec)"
   ]
  },
  {
   "cell_type": "code",
   "execution_count": null,
   "id": "6afde75a",
   "metadata": {},
   "outputs": [],
   "source": [
    "ax = sns.heatmap(np.log(S3))\n",
    "plt.show()"
   ]
  },
  {
   "cell_type": "code",
   "execution_count": null,
   "id": "c74071d4",
   "metadata": {},
   "outputs": [],
   "source": [
    "type(mfccs)"
   ]
  },
  {
   "cell_type": "code",
   "execution_count": null,
   "id": "2b18ef6f",
   "metadata": {},
   "outputs": [],
   "source": []
  },
  {
   "cell_type": "code",
   "execution_count": null,
   "id": "b1ecf35b",
   "metadata": {},
   "outputs": [],
   "source": [
    "x_time"
   ]
  },
  {
   "cell_type": "code",
   "execution_count": null,
   "id": "1024c3a1",
   "metadata": {},
   "outputs": [],
   "source": [
    "index_min_sec"
   ]
  },
  {
   "cell_type": "code",
   "execution_count": null,
   "id": "327fc02c",
   "metadata": {},
   "outputs": [],
   "source": []
  }
 ],
 "metadata": {
  "kernelspec": {
   "display_name": "Python 3 (ipykernel)",
   "language": "python",
   "name": "python3"
  },
  "language_info": {
   "codemirror_mode": {
    "name": "ipython",
    "version": 3
   },
   "file_extension": ".py",
   "mimetype": "text/x-python",
   "name": "python",
   "nbconvert_exporter": "python",
   "pygments_lexer": "ipython3",
   "version": "3.9.13"
  }
 },
 "nbformat": 4,
 "nbformat_minor": 5
}
